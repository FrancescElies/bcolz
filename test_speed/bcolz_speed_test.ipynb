{
 "metadata": {
  "name": "",
  "signature": "sha256:0408ebfd7c94a9b76af11edcf676ae41df0b1cf49581571756bf396f662e98e2"
 },
 "nbformat": 3,
 "nbformat_minor": 0,
 "worksheets": [
  {
   "cells": [
    {
     "cell_type": "markdown",
     "metadata": {},
     "source": [
      "# Definitions"
     ]
    },
    {
     "cell_type": "code",
     "collapsed": false,
     "input": [
      "%matplotlib inline\n",
      "from pylab import *\n",
      "import matplotlib.pyplot as plt"
     ],
     "language": "python",
     "metadata": {},
     "outputs": [],
     "prompt_number": 1
    },
    {
     "cell_type": "code",
     "collapsed": false,
     "input": [
      "import os\n",
      "import tempfile\n",
      "import bcolz\n",
      "import pandas as pd\n",
      "import contextlib\n",
      "import time\n",
      "import random\n",
      "import string\n",
      "from nose.tools import assert_equal\n",
      "\n",
      "@contextlib.contextmanager\n",
      "def ctime(label=\"\"):\n",
      "    \"Counts the time spent in some context\"\n",
      "    global g_elapsed\n",
      "    t = time.time()\n",
      "    yield\n",
      "    g_elapsed = time.time() - t\n",
      "    print label, round(g_elapsed, 3), \"sec\\n\""
     ],
     "language": "python",
     "metadata": {},
     "outputs": [],
     "prompt_number": 2
    },
    {
     "cell_type": "markdown",
     "metadata": {},
     "source": [
      "# Test Speed -- fc_nl_fact_ex_factory_actuals_2"
     ]
    },
    {
     "cell_type": "code",
     "collapsed": false,
     "input": [
      "file_h5='/srv/hdf5/fc_nl_fact_ex_factory_actuals_2.h5'\n",
      "\n",
      "hdf = pd.HDFStore(file_h5, mode='r')\n",
      "\n",
      "fact_df = hdf['/store_0'][ [ 'a_n_11', 'a_n_101' , 'a_n_21' , 'a_n_31', 'm101101'] ]\n",
      "hdf.close()\n",
      "num_rows = len(fact_df)\n",
      "prefix = 'bcolz-TestH5'\n",
      "rootdir = tempfile.mkdtemp(prefix=prefix)\n",
      "os.rmdir(rootdir)  # tests needs this cleared\n",
      "fact_bcolz = bcolz.ctable.fromdataframe(fact_df, rootdir=rootdir)\n",
      "fact_bcolz.flush()"
     ],
     "language": "python",
     "metadata": {},
     "outputs": [],
     "prompt_number": 3
    },
    {
     "cell_type": "markdown",
     "metadata": {},
     "source": [
      "## pandas"
     ]
    },
    {
     "cell_type": "code",
     "collapsed": false,
     "input": [
      "with ctime(\"--> Pandas groupby\"):\n",
      "    result_pandas = \\\n",
      "        fact_df.groupby(['a_n_11', 'a_n_21'], as_index=False)['m101101'].sum()\n",
      "elapsed_pandas = g_elapsed"
     ],
     "language": "python",
     "metadata": {},
     "outputs": [
      {
       "output_type": "stream",
       "stream": "stdout",
       "text": [
        "--> Pandas groupby 0.047 sec\n",
        "\n"
       ]
      }
     ],
     "prompt_number": 4
    },
    {
     "cell_type": "markdown",
     "metadata": {},
     "source": [
      "## bcolz"
     ]
    },
    {
     "cell_type": "code",
     "collapsed": false,
     "input": [
      "with ctime(\"--> Bcolz caching\"):\n",
      "    fact_bcolz.cache_factor(['a_n_11', 'a_n_21'], refresh=True)\n",
      "elapsed_bcolz_cache = g_elapsed\n",
      "\n",
      "# --\n",
      "\n",
      "with ctime(\"--> Bcolz groupby\"):\n",
      "    result_bcolz = \\\n",
      "        fact_bcolz.groupby(['a_n_11', 'a_n_21'], ['m101101'])\n",
      "elapsed_bcolz = g_elapsed"
     ],
     "language": "python",
     "metadata": {},
     "outputs": [
      {
       "output_type": "stream",
       "stream": "stdout",
       "text": [
        "--> Bcolz caching 0.048 sec\n",
        "\n",
        "--> Bcolz groupby"
       ]
      },
      {
       "output_type": "stream",
       "stream": "stdout",
       "text": [
        " 0.241 sec\n",
        "\n"
       ]
      }
     ],
     "prompt_number": 5
    },
    {
     "cell_type": "markdown",
     "metadata": {},
     "source": [
      "## graph"
     ]
    },
    {
     "cell_type": "code",
     "collapsed": false,
     "input": [
      "# the bar lengths\n",
      "val = [elapsed_pandas, elapsed_bcolz]\n",
      "val_cache = [0, elapsed_bcolz_cache]\n",
      "# the bar centers on the y axis\n",
      "pos = arange(2)+.5\n",
      "\n",
      "\n",
      "fig = plt.figure(figsize=(16,4), dpi=200)\n",
      "p1 = barh(pos, val, align='center')\n",
      "p2 = barh(pos, val_cache, left =val, align='center', color='y')\n",
      "yticks(pos, ('pandas', 'bcolz'))\n",
      "xlabel('seconds')\n",
      "title('Elapsed time')\n",
      "legend( (p1[0], p2[0]), ('Groupby', 'Cache') )\n",
      "grid(True)\n",
      "\n",
      "show()"
     ],
     "language": "python",
     "metadata": {},
     "outputs": [
      {
       "metadata": {},
       "output_type": "display_data",
       "png": "[encoded data removed]",
       "text": [
        "<matplotlib.figure.Figure at 0x7ff41e93c810>"
       ]
      }
     ],
     "prompt_number": 6
    },
    {
     "cell_type": "markdown",
     "metadata": {},
     "source": [
      "# Test Speed -- /srv/hdf5/pvm_fact_nielsen_data.h5"
     ]
    },
    {
     "cell_type": "markdown",
     "metadata": {},
     "source": [
      "### Warning: this test can take a while"
     ]
    },
    {
     "cell_type": "code",
     "collapsed": false,
     "input": [
      "file_h5='/srv/hdf5/pvm_fact_nielsen_data.h5'\n",
      "\n",
      "hdf = pd.HDFStore(file_h5, mode='r')\n",
      "\n",
      "fact_df = hdf['/store_0'][ [ 'a_n_11', 'a_n_21' , 'a_n_31', 'm_n_1001'] ]\n",
      "hdf.close()\n",
      "num_rows = len(fact_df)\n",
      "prefix = 'bcolz-TestH5'\n",
      "rootdir = tempfile.mkdtemp(prefix=prefix)\n",
      "os.rmdir(rootdir)  # tests needs this cleared\n",
      "fact_bcolz = bcolz.ctable.fromdataframe(fact_df, rootdir=rootdir)\n",
      "fact_bcolz.flush()"
     ],
     "language": "python",
     "metadata": {},
     "outputs": [],
     "prompt_number": 7
    },
    {
     "cell_type": "markdown",
     "metadata": {},
     "source": [
      "## pandas"
     ]
    },
    {
     "cell_type": "code",
     "collapsed": false,
     "input": [
      "with ctime(\"--> Pandas groupby\"):\n",
      "    result_pandas = \\\n",
      "        fact_df.groupby(['a_n_11', 'a_n_21'], as_index=False)['m_n_1001'].sum()\n",
      "elapsed_pandas = g_elapsed"
     ],
     "language": "python",
     "metadata": {},
     "outputs": [
      {
       "output_type": "stream",
       "stream": "stdout",
       "text": [
        "--> Pandas groupby 1.41 sec\n",
        "\n"
       ]
      }
     ],
     "prompt_number": 8
    },
    {
     "cell_type": "markdown",
     "metadata": {},
     "source": [
      "## bcolz"
     ]
    },
    {
     "cell_type": "code",
     "collapsed": false,
     "input": [
      "with ctime(\"--> Bcolz caching\"):\n",
      "    fact_bcolz.cache_factor(['a_n_11', 'a_n_21'], refresh=True)\n",
      "elapsed_bcolz_cache = g_elapsed\n",
      "\n",
      "# --\n",
      "\n",
      "with ctime(\"--> Bcolz groupby\"):\n",
      "    result_bcolz = \\\n",
      "        fact_bcolz.groupby(['a_n_11', 'a_n_21'], ['m_n_1001'])\n",
      "elapsed_bcolz = g_elapsed"
     ],
     "language": "python",
     "metadata": {},
     "outputs": [
      {
       "output_type": "stream",
       "stream": "stdout",
       "text": [
        "--> Bcolz caching 1.168 sec\n",
        "\n",
        "--> Bcolz groupby"
       ]
      },
      {
       "output_type": "stream",
       "stream": "stdout",
       "text": [
        " 5.034 sec\n",
        "\n"
       ]
      }
     ],
     "prompt_number": 9
    },
    {
     "cell_type": "markdown",
     "metadata": {},
     "source": [
      "## graph"
     ]
    },
    {
     "cell_type": "code",
     "collapsed": false,
     "input": [
      "# the bar lengths\n",
      "val = [elapsed_pandas, elapsed_bcolz]\n",
      "val_cache = [0, elapsed_bcolz_cache]\n",
      "# the bar centers on the y axis\n",
      "pos = arange(2)+.5\n",
      "\n",
      "\n",
      "fig = plt.figure(figsize=(16,4), dpi=200)\n",
      "p1 = barh(pos, val, align='center')\n",
      "p2 = barh(pos, val_cache, left =val, align='center', color='y')\n",
      "yticks(pos, ('pandas', 'bcolz'))\n",
      "xlabel('seconds')\n",
      "title('Elapsed time')\n",
      "legend( (p1[0], p2[0]), ('Groupby', 'Cache') )\n",
      "grid(True)\n",
      "\n",
      "show()"
     ],
     "language": "python",
     "metadata": {},
     "outputs": [
      {
       "metadata": {},
       "output_type": "display_data",
       "png": "[encoded data removed]",
       "text": [
        "<matplotlib.figure.Figure at 0x7ff41e928550>"
       ]
      }
     ],
     "prompt_number": 10
    },
    {
     "cell_type": "markdown",
     "metadata": {},
     "source": [
      "# Test Speed - One million unique values"
     ]
    },
    {
     "cell_type": "code",
     "collapsed": false,
     "input": [
      "INT32 = 2**32\n",
      "INT64 = 2**64\n",
      "\n",
      "N = int(1e6)\n",
      "groupby_cols = ['a1', 'a2', 'a3', 'a4']\n",
      "agg_list = ['m1', 'm2', 'm3']\n",
      "\n",
      "def gen_almost_unique_row():\n",
      "    s = ''.join(random.choice(string.lowercase) for i in range(20))\n",
      "    d = {\n",
      "        'a1': s,\n",
      "        'a2': random.random(),\n",
      "        'a3': random.randint(-INT32, INT32 - 1),\n",
      "        'a4': random.randint(-INT32, INT32 - 1),\n",
      "        'm1': 1,\n",
      "        'm2': 2,\n",
      "        'm3': 3.2\n",
      "    }\n",
      "    yield d    "
     ],
     "language": "python",
     "metadata": {},
     "outputs": [],
     "prompt_number": 11
    },
    {
     "cell_type": "code",
     "collapsed": false,
     "input": [
      "random.seed(1)\n",
      "projects = [gen_almost_unique_row().next() for _ in range(N)]\n",
      "\n",
      "# -- Pandas --\n",
      "df = pd.DataFrame(projects)\n",
      "# force certain columns dtypes as int32\n",
      "df.a3 = df.a3.astype(np.int32)\n",
      "df.m1 = df.m1.astype(np.int32)\n",
      "\n",
      "# -- Bcolz --\n",
      "prefix = 'bcolz-'\n",
      "rootdir = tempfile.mkdtemp(prefix=prefix)\n",
      "os.rmdir(rootdir) # folder should be emtpy\n",
      "fact_bcolz = bcolz.ctable.fromdataframe(df, rootdir=rootdir)"
     ],
     "language": "python",
     "metadata": {},
     "outputs": [],
     "prompt_number": 12
    },
    {
     "cell_type": "markdown",
     "metadata": {},
     "source": [
      "## pandas"
     ]
    },
    {
     "cell_type": "code",
     "collapsed": false,
     "input": [
      "with ctime(\"--> Pandas groupby\"):\n",
      "    result_pandas = \\\n",
      "        df.groupby(groupby_cols, as_index=False)['m1', 'm2', 'm3'].sum()\n",
      "\n",
      "elapsed_pandas = g_elapsed"
     ],
     "language": "python",
     "metadata": {},
     "outputs": [
      {
       "output_type": "stream",
       "stream": "stdout",
       "text": [
        "--> Pandas groupby 32.969 sec\n",
        "\n"
       ]
      }
     ],
     "prompt_number": 13
    },
    {
     "cell_type": "markdown",
     "metadata": {},
     "source": [
      "## bcolz"
     ]
    },
    {
     "cell_type": "code",
     "collapsed": false,
     "input": [
      "with ctime(\"--> Bcolz caching\"):\n",
      "    fact_bcolz.cache_factor(groupby_cols, refresh=True)\n",
      "elapsed_bcolz_cache = g_elapsed\n",
      "\n",
      "# --\n",
      "\n",
      "with ctime(\"--> Bcolz groupby\"):\n",
      "    result_bcolz = fact_bcolz.groupby(groupby_cols, agg_list)\n",
      "elapsed_bcolz = g_elapsed"
     ],
     "language": "python",
     "metadata": {},
     "outputs": [
      {
       "output_type": "stream",
       "stream": "stdout",
       "text": [
        "--> Bcolz caching 6.43 sec\n",
        "\n",
        "--> Bcolz groupby"
       ]
      },
      {
       "output_type": "stream",
       "stream": "stdout",
       "text": [
        " 2.617 sec\n",
        "\n"
       ]
      }
     ],
     "prompt_number": 14
    },
    {
     "cell_type": "markdown",
     "metadata": {},
     "source": [
      "# graph"
     ]
    },
    {
     "cell_type": "code",
     "collapsed": false,
     "input": [
      "# the bar lengths\n",
      "val = [elapsed_pandas, elapsed_bcolz]\n",
      "val_cache = [0, elapsed_bcolz_cache]\n",
      "# the bar centers on the y axis\n",
      "pos = arange(2)+.5\n",
      "\n",
      "\n",
      "fig = plt.figure(figsize=(16,4), dpi=200)\n",
      "p1 = barh(pos, val, align='center')\n",
      "p2 = barh(pos, val_cache, left =val, align='center', color='y')\n",
      "yticks(pos, ('pandas', 'bcolz'))\n",
      "xlabel('seconds')\n",
      "title('Elapsed time')\n",
      "legend( (p1[0], p2[0]), ('Groupby', 'Cache') )\n",
      "grid(True)\n",
      "\n",
      "show()"
     ],
     "language": "python",
     "metadata": {},
     "outputs": [
      {
       "metadata": {},
       "output_type": "display_data",
       "png": "[encoded data removed]",
       "text": [
        "<matplotlib.figure.Figure at 0x7ff41e8da910>"
       ]
      }
     ],
     "prompt_number": 15
    },
    {
     "cell_type": "code",
     "collapsed": false,
     "input": [],
     "language": "python",
     "metadata": {},
     "outputs": [],
     "prompt_number": 15
    }
   ],
   "metadata": {}
  }
 ]
}